{
 "cells": [
  {
   "cell_type": "code",
   "execution_count": 1,
   "id": "6b03e438-32e8-4008-82b0-d95eb2871808",
   "metadata": {},
   "outputs": [],
   "source": [
    "l=[1,2,345,45,\"sudh\", True,5+8j,345.456]"
   ]
  },
  {
   "cell_type": "code",
   "execution_count": 2,
   "id": "ba2cea11-ef14-476e-9fa7-1ca3b2443f16",
   "metadata": {},
   "outputs": [
    {
     "data": {
      "text/plain": [
       "list"
      ]
     },
     "execution_count": 2,
     "metadata": {},
     "output_type": "execute_result"
    }
   ],
   "source": [
    "type(l)"
   ]
  },
  {
   "cell_type": "code",
   "execution_count": 3,
   "id": "69af498b-5c41-4567-b94b-28e560370c28",
   "metadata": {},
   "outputs": [
    {
     "data": {
      "text/plain": [
       "1"
      ]
     },
     "execution_count": 3,
     "metadata": {},
     "output_type": "execute_result"
    }
   ],
   "source": [
    "l[0]"
   ]
  },
  {
   "cell_type": "code",
   "execution_count": 4,
   "id": "98d9a4d7-da5a-49c3-9257-e94f71f1c6b3",
   "metadata": {},
   "outputs": [
    {
     "data": {
      "text/plain": [
       "(5+8j)"
      ]
     },
     "execution_count": 4,
     "metadata": {},
     "output_type": "execute_result"
    }
   ],
   "source": [
    "l[6]"
   ]
  },
  {
   "cell_type": "code",
   "execution_count": 11,
   "id": "491c5ea8-01d1-470c-8ce2-bd0ac9dcb80d",
   "metadata": {},
   "outputs": [],
   "source": [
    "l=[1,2,345,45,\"sudh\", True,5+8j,345.456]"
   ]
  },
  {
   "cell_type": "code",
   "execution_count": 12,
   "id": "84629b12-9e73-4527-a571-c6125195d4a8",
   "metadata": {},
   "outputs": [
    {
     "data": {
      "text/plain": [
       "[1, 2, 345]"
      ]
     },
     "execution_count": 12,
     "metadata": {},
     "output_type": "execute_result"
    }
   ],
   "source": [
    "l[0:3]"
   ]
  },
  {
   "cell_type": "code",
   "execution_count": 13,
   "id": "8932b078-722b-435f-8302-50b057d19149",
   "metadata": {},
   "outputs": [
    {
     "data": {
      "text/plain": [
       "345.456"
      ]
     },
     "execution_count": 13,
     "metadata": {},
     "output_type": "execute_result"
    }
   ],
   "source": [
    "l[-1]"
   ]
  },
  {
   "cell_type": "code",
   "execution_count": 14,
   "id": "57f9a8e8-eef1-48cf-b7bc-1800674833ba",
   "metadata": {},
   "outputs": [
    {
     "data": {
      "text/plain": [
       "[345.456, (5+8j), True, 'sudh', 45, 345, 2, 1]"
      ]
     },
     "execution_count": 14,
     "metadata": {},
     "output_type": "execute_result"
    }
   ],
   "source": [
    "l[::-1]"
   ]
  },
  {
   "cell_type": "code",
   "execution_count": 15,
   "id": "ee8a3a5f-e4c1-4242-8ee7-d8fc54eefe54",
   "metadata": {},
   "outputs": [
    {
     "data": {
      "text/plain": [
       "[1, 345, 'sudh', (5+8j)]"
      ]
     },
     "execution_count": 15,
     "metadata": {},
     "output_type": "execute_result"
    }
   ],
   "source": [
    "l[::2]"
   ]
  },
  {
   "cell_type": "code",
   "execution_count": 16,
   "id": "1759f773-50dc-471b-b474-9c66ecf9f83f",
   "metadata": {},
   "outputs": [
    {
     "data": {
      "text/plain": [
       "[1, 2, 345, 45, 'sudh', True, (5+8j), 345.456]"
      ]
     },
     "execution_count": 16,
     "metadata": {},
     "output_type": "execute_result"
    }
   ],
   "source": [
    "l"
   ]
  },
  {
   "cell_type": "code",
   "execution_count": 17,
   "id": "6993b968-50af-4bb4-8236-a4e59dacd554",
   "metadata": {},
   "outputs": [],
   "source": [
    "s=\"pwskills\""
   ]
  },
  {
   "cell_type": "code",
   "execution_count": 18,
   "id": "1f99fbc3-cb3b-4fd7-bf9a-bc9556df31b0",
   "metadata": {},
   "outputs": [
    {
     "data": {
      "text/plain": [
       "['p', 'w', 's', 'k', 'i', 'l', 'l', 's']"
      ]
     },
     "execution_count": 18,
     "metadata": {},
     "output_type": "execute_result"
    }
   ],
   "source": [
    "list(s)"
   ]
  },
  {
   "cell_type": "code",
   "execution_count": 19,
   "id": "9f3a5c52-d878-452a-b1da-8484a2e56fb1",
   "metadata": {},
   "outputs": [
    {
     "data": {
      "text/plain": [
       "['p',\n",
       " 'w',\n",
       " 's',\n",
       " 'k',\n",
       " 'i',\n",
       " 'l',\n",
       " 'l',\n",
       " 's',\n",
       " 1,\n",
       " 2,\n",
       " 345,\n",
       " 45,\n",
       " 'sudh',\n",
       " True,\n",
       " (5+8j),\n",
       " 345.456]"
      ]
     },
     "execution_count": 19,
     "metadata": {},
     "output_type": "execute_result"
    }
   ],
   "source": [
    "list(s)+l"
   ]
  },
  {
   "cell_type": "code",
   "execution_count": 20,
   "id": "7e852394-a524-4c21-9045-78e30c9fe4b3",
   "metadata": {},
   "outputs": [
    {
     "data": {
      "text/plain": [
       "[1, 2, 345, 45, 'sudh', True, (5+8j), 345.456]"
      ]
     },
     "execution_count": 20,
     "metadata": {},
     "output_type": "execute_result"
    }
   ],
   "source": [
    "l"
   ]
  },
  {
   "cell_type": "code",
   "execution_count": 22,
   "id": "60ce788e-cdc1-4534-8928-a3802ec288fe",
   "metadata": {},
   "outputs": [
    {
     "data": {
      "text/plain": [
       "str"
      ]
     },
     "execution_count": 22,
     "metadata": {},
     "output_type": "execute_result"
    }
   ],
   "source": [
    "type(l[4])"
   ]
  },
  {
   "cell_type": "code",
   "execution_count": 23,
   "id": "daab3f20-04b5-4140-8e7b-732b984789bf",
   "metadata": {},
   "outputs": [
    {
     "data": {
      "text/plain": [
       "'sudh'"
      ]
     },
     "execution_count": 23,
     "metadata": {},
     "output_type": "execute_result"
    }
   ],
   "source": [
    "l[4]"
   ]
  },
  {
   "cell_type": "code",
   "execution_count": 24,
   "id": "0040ae46-4b4f-41a3-85c1-53d0d06c5403",
   "metadata": {},
   "outputs": [
    {
     "data": {
      "text/plain": [
       "'su'"
      ]
     },
     "execution_count": 24,
     "metadata": {},
     "output_type": "execute_result"
    }
   ],
   "source": [
    "l[4][0:2]"
   ]
  },
  {
   "cell_type": "code",
   "execution_count": 25,
   "id": "b5027090-7268-42d2-b49a-2105d39ae3ea",
   "metadata": {},
   "outputs": [
    {
     "data": {
      "text/plain": [
       "True"
      ]
     },
     "execution_count": 25,
     "metadata": {},
     "output_type": "execute_result"
    }
   ],
   "source": [
    "l[5]"
   ]
  },
  {
   "cell_type": "code",
   "execution_count": 27,
   "id": "39bec1b9-0c0d-4b6a-9d03-7f4473ff8de5",
   "metadata": {},
   "outputs": [
    {
     "data": {
      "text/plain": [
       "'Tr'"
      ]
     },
     "execution_count": 27,
     "metadata": {},
     "output_type": "execute_result"
    }
   ],
   "source": [
    "str(l[5])[0:2]"
   ]
  },
  {
   "cell_type": "code",
   "execution_count": 28,
   "id": "85d647b7-9b95-4b1f-a540-a7a69cb2c810",
   "metadata": {},
   "outputs": [],
   "source": [
    "l1=[3,4,5]"
   ]
  },
  {
   "cell_type": "code",
   "execution_count": 29,
   "id": "94bcb8b9-209d-4685-be65-1402b40a4cb8",
   "metadata": {},
   "outputs": [
    {
     "data": {
      "text/plain": [
       "[1, 2, 345, 45, 'sudh', True, (5+8j), 345.456, 3, 4, 5]"
      ]
     },
     "execution_count": 29,
     "metadata": {},
     "output_type": "execute_result"
    }
   ],
   "source": [
    "l+l1"
   ]
  },
  {
   "cell_type": "code",
   "execution_count": 30,
   "id": "3aaac995-45fa-485d-9f04-a0e400b06ee1",
   "metadata": {},
   "outputs": [
    {
     "data": {
      "text/plain": [
       "[3, 4, 5, 3, 4, 5, 3, 4, 5]"
      ]
     },
     "execution_count": 30,
     "metadata": {},
     "output_type": "execute_result"
    }
   ],
   "source": [
    "l1*3"
   ]
  },
  {
   "cell_type": "code",
   "execution_count": 31,
   "id": "33f539b2-2b85-4ca7-99cc-e89ee92f7ee0",
   "metadata": {},
   "outputs": [
    {
     "data": {
      "text/plain": [
       "8"
      ]
     },
     "execution_count": 31,
     "metadata": {},
     "output_type": "execute_result"
    }
   ],
   "source": [
    "len(l)"
   ]
  },
  {
   "cell_type": "code",
   "execution_count": 32,
   "id": "ff7f38c5-ff55-4c9f-a835-2ce94227c8cd",
   "metadata": {},
   "outputs": [],
   "source": [
    "l.append(5)"
   ]
  },
  {
   "cell_type": "code",
   "execution_count": 33,
   "id": "398bd1b4-17d6-4c2f-b9d4-2b4970cdd0bc",
   "metadata": {},
   "outputs": [
    {
     "data": {
      "text/plain": [
       "[1, 2, 345, 45, 'sudh', True, (5+8j), 345.456, 5]"
      ]
     },
     "execution_count": 33,
     "metadata": {},
     "output_type": "execute_result"
    }
   ],
   "source": [
    "l"
   ]
  },
  {
   "cell_type": "code",
   "execution_count": 34,
   "id": "ff0916f2-7038-4621-8123-833886c5b451",
   "metadata": {},
   "outputs": [],
   "source": [
    "l.append(s)"
   ]
  },
  {
   "cell_type": "code",
   "execution_count": 35,
   "id": "4a529db9-e626-434e-9b1f-df4e7e27c24c",
   "metadata": {},
   "outputs": [
    {
     "data": {
      "text/plain": [
       "[1, 2, 345, 45, 'sudh', True, (5+8j), 345.456, 5, 'pwskills']"
      ]
     },
     "execution_count": 35,
     "metadata": {},
     "output_type": "execute_result"
    }
   ],
   "source": [
    "l"
   ]
  },
  {
   "cell_type": "code",
   "execution_count": 36,
   "id": "684ba53e-0d75-430e-a6d6-4c0370ae51a8",
   "metadata": {},
   "outputs": [],
   "source": [
    "l.append(l1)"
   ]
  },
  {
   "cell_type": "code",
   "execution_count": 37,
   "id": "9ab0eec0-d75a-40ab-b0da-e81900fba046",
   "metadata": {},
   "outputs": [
    {
     "data": {
      "text/plain": [
       "[1, 2, 345, 45, 'sudh', True, (5+8j), 345.456, 5, 'pwskills', [3, 4, 5]]"
      ]
     },
     "execution_count": 37,
     "metadata": {},
     "output_type": "execute_result"
    }
   ],
   "source": [
    "l"
   ]
  },
  {
   "cell_type": "code",
   "execution_count": 40,
   "id": "e14f1086-70f6-4e98-aada-7f2208a372fc",
   "metadata": {},
   "outputs": [
    {
     "data": {
      "text/plain": [
       "[3, 4, 5]"
      ]
     },
     "execution_count": 40,
     "metadata": {},
     "output_type": "execute_result"
    }
   ],
   "source": [
    "l[-1]"
   ]
  },
  {
   "cell_type": "code",
   "execution_count": 41,
   "id": "39a13873-de2e-4cf5-8326-1b5a9019f56f",
   "metadata": {},
   "outputs": [
    {
     "data": {
      "text/plain": [
       "4"
      ]
     },
     "execution_count": 41,
     "metadata": {},
     "output_type": "execute_result"
    }
   ],
   "source": [
    "l[-1][1]"
   ]
  },
  {
   "cell_type": "code",
   "execution_count": 42,
   "id": "82d0244d-406d-449e-860d-f34b9e18150b",
   "metadata": {},
   "outputs": [
    {
     "data": {
      "text/plain": [
       "[1, 2, 345, 45, 'sudh', True, (5+8j), 345.456, 5, 'pwskills', [3, 4, 5]]"
      ]
     },
     "execution_count": 42,
     "metadata": {},
     "output_type": "execute_result"
    }
   ],
   "source": [
    "l"
   ]
  },
  {
   "cell_type": "code",
   "execution_count": 43,
   "id": "a0fe020c-8f04-4cc5-b1fb-de9385d06423",
   "metadata": {},
   "outputs": [],
   "source": [
    "l.extend(\"sudh\")"
   ]
  },
  {
   "cell_type": "code",
   "execution_count": 44,
   "id": "097aae1e-b227-459a-8a17-0a3101ada2e2",
   "metadata": {},
   "outputs": [
    {
     "data": {
      "text/plain": [
       "[1,\n",
       " 2,\n",
       " 345,\n",
       " 45,\n",
       " 'sudh',\n",
       " True,\n",
       " (5+8j),\n",
       " 345.456,\n",
       " 5,\n",
       " 'pwskills',\n",
       " [3, 4, 5],\n",
       " 's',\n",
       " 'u',\n",
       " 'd',\n",
       " 'h']"
      ]
     },
     "execution_count": 44,
     "metadata": {},
     "output_type": "execute_result"
    }
   ],
   "source": [
    "l"
   ]
  },
  {
   "cell_type": "code",
   "execution_count": 45,
   "id": "918d4eb7-143c-4342-882b-56413b7011fd",
   "metadata": {},
   "outputs": [],
   "source": [
    "l.extend([3,4,5])"
   ]
  },
  {
   "cell_type": "code",
   "execution_count": 46,
   "id": "2fe08a79-f95d-44a0-9513-ba49ee109ddb",
   "metadata": {},
   "outputs": [
    {
     "data": {
      "text/plain": [
       "[1,\n",
       " 2,\n",
       " 345,\n",
       " 45,\n",
       " 'sudh',\n",
       " True,\n",
       " (5+8j),\n",
       " 345.456,\n",
       " 5,\n",
       " 'pwskills',\n",
       " [3, 4, 5],\n",
       " 's',\n",
       " 'u',\n",
       " 'd',\n",
       " 'h',\n",
       " 3,\n",
       " 4,\n",
       " 5]"
      ]
     },
     "execution_count": 46,
     "metadata": {},
     "output_type": "execute_result"
    }
   ],
   "source": [
    "l"
   ]
  },
  {
   "cell_type": "code",
   "execution_count": 47,
   "id": "d6f2e617-4314-4d04-ae4c-e0753f6b2bff",
   "metadata": {},
   "outputs": [
    {
     "data": {
      "text/plain": [
       "[3, 4, 5]"
      ]
     },
     "execution_count": 47,
     "metadata": {},
     "output_type": "execute_result"
    }
   ],
   "source": [
    "l1"
   ]
  },
  {
   "cell_type": "code",
   "execution_count": 48,
   "id": "b3f0dd1e-ff64-410b-965b-e640b72eaf4d",
   "metadata": {},
   "outputs": [],
   "source": [
    "l1.insert(1,\"sudh\")"
   ]
  },
  {
   "cell_type": "code",
   "execution_count": 49,
   "id": "fa6acdc9-1c94-4d1d-ac39-c7d92e8831c4",
   "metadata": {},
   "outputs": [
    {
     "data": {
      "text/plain": [
       "[3, 'sudh', 4, 5]"
      ]
     },
     "execution_count": 49,
     "metadata": {},
     "output_type": "execute_result"
    }
   ],
   "source": [
    "l1"
   ]
  },
  {
   "cell_type": "code",
   "execution_count": 52,
   "id": "37962580-0c97-4a95-ac70-8247b581af62",
   "metadata": {},
   "outputs": [],
   "source": [
    "l1.insert(2,[2,3,4])"
   ]
  },
  {
   "cell_type": "code",
   "execution_count": 54,
   "id": "45416c1f-dea9-4aac-a313-8c1f2bad7518",
   "metadata": {},
   "outputs": [
    {
     "data": {
      "text/plain": [
       "[3, 'sudh', [2, 3, 4], 4, 5]"
      ]
     },
     "execution_count": 54,
     "metadata": {},
     "output_type": "execute_result"
    }
   ],
   "source": [
    "l1"
   ]
  },
  {
   "cell_type": "code",
   "execution_count": 58,
   "id": "62ebbf84-4cae-4739-8b21-965e911f0149",
   "metadata": {},
   "outputs": [],
   "source": [
    "l1.insert(3,[2,3,4])"
   ]
  },
  {
   "cell_type": "code",
   "execution_count": 59,
   "id": "2978ac7e-fdfa-48ca-bf2a-6b042013b132",
   "metadata": {},
   "outputs": [
    {
     "data": {
      "text/plain": [
       "[3, 'sudh', [2, 3, 4], [2, 3, 4], [2, 3, 4], [2, 3, 4], [2, 3, 4], 4, 5]"
      ]
     },
     "execution_count": 59,
     "metadata": {},
     "output_type": "execute_result"
    }
   ],
   "source": [
    "l1"
   ]
  },
  {
   "cell_type": "code",
   "execution_count": 60,
   "id": "2df765b3-33f2-4d9e-b97c-375b6a2e7d01",
   "metadata": {},
   "outputs": [],
   "source": [
    "l1.insert(-1,45)"
   ]
  },
  {
   "cell_type": "code",
   "execution_count": 61,
   "id": "c9e54dc5-4fd9-4749-b734-ee05b2f52fe4",
   "metadata": {},
   "outputs": [
    {
     "data": {
      "text/plain": [
       "[3, 'sudh', [2, 3, 4], [2, 3, 4], [2, 3, 4], [2, 3, 4], [2, 3, 4], 4, 45, 5]"
      ]
     },
     "execution_count": 61,
     "metadata": {},
     "output_type": "execute_result"
    }
   ],
   "source": [
    "l1"
   ]
  },
  {
   "cell_type": "code",
   "execution_count": 62,
   "id": "80b6d1c2-d79a-4256-94eb-cee12c4af5dd",
   "metadata": {},
   "outputs": [],
   "source": [
    "l1.insert(0,45)"
   ]
  },
  {
   "cell_type": "code",
   "execution_count": 63,
   "id": "ff42f9c5-ae5b-4ead-b8a5-66f37f131d09",
   "metadata": {},
   "outputs": [
    {
     "data": {
      "text/plain": [
       "[45,\n",
       " 3,\n",
       " 'sudh',\n",
       " [2, 3, 4],\n",
       " [2, 3, 4],\n",
       " [2, 3, 4],\n",
       " [2, 3, 4],\n",
       " [2, 3, 4],\n",
       " 4,\n",
       " 45,\n",
       " 5]"
      ]
     },
     "execution_count": 63,
     "metadata": {},
     "output_type": "execute_result"
    }
   ],
   "source": [
    "l1"
   ]
  },
  {
   "cell_type": "code",
   "execution_count": 64,
   "id": "7781c527-b675-49b2-abf7-772ecc60a9ec",
   "metadata": {},
   "outputs": [
    {
     "data": {
      "text/plain": [
       "5"
      ]
     },
     "execution_count": 64,
     "metadata": {},
     "output_type": "execute_result"
    }
   ],
   "source": [
    "l1.pop()"
   ]
  },
  {
   "cell_type": "code",
   "execution_count": 65,
   "id": "b4004f3b-90b0-478e-a696-bc0f015a31a9",
   "metadata": {},
   "outputs": [
    {
     "data": {
      "text/plain": [
       "[45, 3, 'sudh', [2, 3, 4], [2, 3, 4], [2, 3, 4], [2, 3, 4], [2, 3, 4], 4, 45]"
      ]
     },
     "execution_count": 65,
     "metadata": {},
     "output_type": "execute_result"
    }
   ],
   "source": [
    "l1"
   ]
  },
  {
   "cell_type": "code",
   "execution_count": 66,
   "id": "c14c820a-09e6-4263-a743-7b61d4004c50",
   "metadata": {},
   "outputs": [
    {
     "data": {
      "text/plain": [
       "45"
      ]
     },
     "execution_count": 66,
     "metadata": {},
     "output_type": "execute_result"
    }
   ],
   "source": [
    "l1.pop()"
   ]
  },
  {
   "cell_type": "code",
   "execution_count": 67,
   "id": "30bab7fe-f32f-439b-937d-708f2db252d1",
   "metadata": {},
   "outputs": [
    {
     "data": {
      "text/plain": [
       "[45, 3, 'sudh', [2, 3, 4], [2, 3, 4], [2, 3, 4], [2, 3, 4], [2, 3, 4], 4]"
      ]
     },
     "execution_count": 67,
     "metadata": {},
     "output_type": "execute_result"
    }
   ],
   "source": [
    "l1"
   ]
  },
  {
   "cell_type": "code",
   "execution_count": 68,
   "id": "d8005cbb-b3a8-47bc-a7a0-5a39aa381757",
   "metadata": {},
   "outputs": [
    {
     "data": {
      "text/plain": [
       "[2, 3, 4]"
      ]
     },
     "execution_count": 68,
     "metadata": {},
     "output_type": "execute_result"
    }
   ],
   "source": [
    "l1.pop(3)"
   ]
  },
  {
   "cell_type": "code",
   "execution_count": 69,
   "id": "4117d25f-6b8b-44ee-b693-4b22fa420204",
   "metadata": {},
   "outputs": [
    {
     "data": {
      "text/plain": [
       "[45, 3, 'sudh', [2, 3, 4], [2, 3, 4], [2, 3, 4], [2, 3, 4], 4]"
      ]
     },
     "execution_count": 69,
     "metadata": {},
     "output_type": "execute_result"
    }
   ],
   "source": [
    "l1"
   ]
  },
  {
   "cell_type": "code",
   "execution_count": 70,
   "id": "fdf974e4-64b2-41f5-843f-df2c1d5bbbc9",
   "metadata": {},
   "outputs": [
    {
     "data": {
      "text/plain": [
       "[2, 3, 4]"
      ]
     },
     "execution_count": 70,
     "metadata": {},
     "output_type": "execute_result"
    }
   ],
   "source": [
    "l1.pop(3)"
   ]
  },
  {
   "cell_type": "code",
   "execution_count": 71,
   "id": "bc3519cf-7c57-422f-83ae-086a2764dd55",
   "metadata": {},
   "outputs": [
    {
     "data": {
      "text/plain": [
       "[2, 3, 4]"
      ]
     },
     "execution_count": 71,
     "metadata": {},
     "output_type": "execute_result"
    }
   ],
   "source": [
    "l1.pop(3)"
   ]
  },
  {
   "cell_type": "code",
   "execution_count": 72,
   "id": "98d52647-acea-4671-8513-418ed2d367bf",
   "metadata": {},
   "outputs": [
    {
     "data": {
      "text/plain": [
       "[45, 3, 'sudh', [2, 3, 4], [2, 3, 4], 4]"
      ]
     },
     "execution_count": 72,
     "metadata": {},
     "output_type": "execute_result"
    }
   ],
   "source": [
    "l1"
   ]
  },
  {
   "cell_type": "code",
   "execution_count": 73,
   "id": "92cf33a6-bae2-481f-bc25-d5f740cbd874",
   "metadata": {},
   "outputs": [
    {
     "data": {
      "text/plain": [
       "[2, 3, 4]"
      ]
     },
     "execution_count": 73,
     "metadata": {},
     "output_type": "execute_result"
    }
   ],
   "source": [
    "l1.pop(3)"
   ]
  },
  {
   "cell_type": "code",
   "execution_count": 74,
   "id": "ff626cdc-e3bc-4355-9da0-06b35d2df6c2",
   "metadata": {},
   "outputs": [
    {
     "data": {
      "text/plain": [
       "[45, 3, 'sudh', [2, 3, 4], 4]"
      ]
     },
     "execution_count": 74,
     "metadata": {},
     "output_type": "execute_result"
    }
   ],
   "source": [
    "l1"
   ]
  },
  {
   "cell_type": "code",
   "execution_count": 75,
   "id": "7d96ce7b-fee4-4190-bc40-ded673d23b2e",
   "metadata": {},
   "outputs": [],
   "source": [
    "l1.remove(3)"
   ]
  },
  {
   "cell_type": "code",
   "execution_count": 76,
   "id": "16ca2718-178b-45e3-a10f-41e33df303e3",
   "metadata": {},
   "outputs": [
    {
     "data": {
      "text/plain": [
       "[2, 3, 4]"
      ]
     },
     "execution_count": 76,
     "metadata": {},
     "output_type": "execute_result"
    }
   ],
   "source": [
    "l1[2]"
   ]
  },
  {
   "cell_type": "code",
   "execution_count": 77,
   "id": "dd1faddf-06d9-4d11-807a-2b3331a7df9b",
   "metadata": {},
   "outputs": [],
   "source": [
    "l1[2].remove(3)"
   ]
  },
  {
   "cell_type": "code",
   "execution_count": 78,
   "id": "9121b223-6548-49ca-92b1-9e7cc838f448",
   "metadata": {},
   "outputs": [
    {
     "data": {
      "text/plain": [
       "[45, 'sudh', [2, 4], 4]"
      ]
     },
     "execution_count": 78,
     "metadata": {},
     "output_type": "execute_result"
    }
   ],
   "source": [
    "l1"
   ]
  },
  {
   "cell_type": "code",
   "execution_count": 79,
   "id": "fa3c2be9-bd31-4e80-95ad-45cb6ab3cf51",
   "metadata": {},
   "outputs": [],
   "source": [
    "l1.append(4)"
   ]
  },
  {
   "cell_type": "code",
   "execution_count": 80,
   "id": "70eb72ca-e199-427d-948a-0973e8bb5b33",
   "metadata": {},
   "outputs": [
    {
     "data": {
      "text/plain": [
       "[45, 'sudh', [2, 4], 4, 4]"
      ]
     },
     "execution_count": 80,
     "metadata": {},
     "output_type": "execute_result"
    }
   ],
   "source": [
    "l1"
   ]
  },
  {
   "cell_type": "code",
   "execution_count": 81,
   "id": "19aefd8b-ee2f-480e-8352-4b0a64bae03e",
   "metadata": {},
   "outputs": [],
   "source": [
    "l1.remove(4)"
   ]
  },
  {
   "cell_type": "code",
   "execution_count": 82,
   "id": "529a1a9d-e922-4ad2-a6b9-40d002da196c",
   "metadata": {},
   "outputs": [
    {
     "data": {
      "text/plain": [
       "[45, 'sudh', [2, 4], 4]"
      ]
     },
     "execution_count": 82,
     "metadata": {},
     "output_type": "execute_result"
    }
   ],
   "source": [
    "l1"
   ]
  },
  {
   "cell_type": "code",
   "execution_count": 83,
   "id": "1c87af9a-1775-4d58-a45b-209bbbc02973",
   "metadata": {},
   "outputs": [
    {
     "data": {
      "text/plain": [
       "[4, [2, 4], 'sudh', 45]"
      ]
     },
     "execution_count": 83,
     "metadata": {},
     "output_type": "execute_result"
    }
   ],
   "source": [
    "l1[::-1]"
   ]
  },
  {
   "cell_type": "code",
   "execution_count": 84,
   "id": "3a4aeca1-9f04-4cdf-aac6-43d1f71ad6f1",
   "metadata": {},
   "outputs": [],
   "source": [
    "l1.reverse()"
   ]
  },
  {
   "cell_type": "code",
   "execution_count": 85,
   "id": "7130e09f-5cc2-4b10-a21f-7c1dfb91fc0d",
   "metadata": {},
   "outputs": [
    {
     "data": {
      "text/plain": [
       "[4, [2, 4], 'sudh', 45]"
      ]
     },
     "execution_count": 85,
     "metadata": {},
     "output_type": "execute_result"
    }
   ],
   "source": [
    "l1"
   ]
  },
  {
   "cell_type": "code",
   "execution_count": 86,
   "id": "8e953038-c66e-426e-a55c-d3235f597302",
   "metadata": {},
   "outputs": [],
   "source": [
    "l1=l1[::-1]"
   ]
  },
  {
   "cell_type": "code",
   "execution_count": 87,
   "id": "c336930b-a9d2-41d7-8f85-3f67c18cfd86",
   "metadata": {},
   "outputs": [
    {
     "data": {
      "text/plain": [
       "[45, 'sudh', [2, 4], 4]"
      ]
     },
     "execution_count": 87,
     "metadata": {},
     "output_type": "execute_result"
    }
   ],
   "source": [
    "l1"
   ]
  },
  {
   "cell_type": "code",
   "execution_count": 88,
   "id": "d09d41ff-3995-4dd0-946d-538484bfa494",
   "metadata": {},
   "outputs": [],
   "source": [
    "l2=[45,23,90,0,3,4,5,6,7,8,9]"
   ]
  },
  {
   "cell_type": "code",
   "execution_count": 89,
   "id": "320dd8f8-a603-47cd-9c59-2a5426af669b",
   "metadata": {},
   "outputs": [
    {
     "data": {
      "text/plain": [
       "[45, 23, 90, 0, 3, 4, 5, 6, 7, 8, 9]"
      ]
     },
     "execution_count": 89,
     "metadata": {},
     "output_type": "execute_result"
    }
   ],
   "source": [
    "l2"
   ]
  },
  {
   "cell_type": "code",
   "execution_count": 90,
   "id": "36370bc1-7045-4a2a-a908-46524cf116be",
   "metadata": {},
   "outputs": [],
   "source": [
    "l2.sort()"
   ]
  },
  {
   "cell_type": "code",
   "execution_count": 91,
   "id": "07143849-cc41-401a-a528-5969a0e176b8",
   "metadata": {},
   "outputs": [
    {
     "data": {
      "text/plain": [
       "[0, 3, 4, 5, 6, 7, 8, 9, 23, 45, 90]"
      ]
     },
     "execution_count": 91,
     "metadata": {},
     "output_type": "execute_result"
    }
   ],
   "source": [
    "l2"
   ]
  },
  {
   "cell_type": "code",
   "execution_count": 92,
   "id": "1d2d4a50-6f37-4425-a81f-b7ecafefdbbc",
   "metadata": {},
   "outputs": [],
   "source": [
    "l4=[\"sudh\",\"kumar\",\"pwskills\",\"data science\"]"
   ]
  },
  {
   "cell_type": "code",
   "execution_count": 93,
   "id": "a0e952bf-582b-445b-8802-ba204c7dc1b8",
   "metadata": {},
   "outputs": [],
   "source": [
    "l4.sort()"
   ]
  },
  {
   "cell_type": "code",
   "execution_count": 94,
   "id": "efe65fe2-6a5c-4bbe-aade-61ec3b5af2aa",
   "metadata": {},
   "outputs": [
    {
     "data": {
      "text/plain": [
       "['data science', 'kumar', 'pwskills', 'sudh']"
      ]
     },
     "execution_count": 94,
     "metadata": {},
     "output_type": "execute_result"
    }
   ],
   "source": [
    "l4"
   ]
  },
  {
   "cell_type": "code",
   "execution_count": 95,
   "id": "653261e6-82a2-48b7-adea-aa7900a53203",
   "metadata": {},
   "outputs": [],
   "source": [
    "l4.sort(reverse = True)"
   ]
  },
  {
   "cell_type": "code",
   "execution_count": 96,
   "id": "5bc26fc4-0770-4df2-a38f-836b84383203",
   "metadata": {},
   "outputs": [
    {
     "data": {
      "text/plain": [
       "['sudh', 'pwskills', 'kumar', 'data science']"
      ]
     },
     "execution_count": 96,
     "metadata": {},
     "output_type": "execute_result"
    }
   ],
   "source": [
    "l4"
   ]
  },
  {
   "cell_type": "code",
   "execution_count": 97,
   "id": "a0539e55-550b-43dc-8031-fe0040d16dbf",
   "metadata": {},
   "outputs": [
    {
     "data": {
      "text/plain": [
       "0"
      ]
     },
     "execution_count": 97,
     "metadata": {},
     "output_type": "execute_result"
    }
   ],
   "source": [
    "l4.index(\"sudh\")"
   ]
  },
  {
   "cell_type": "code",
   "execution_count": 98,
   "id": "21c8da70-18b6-4d3a-b60f-5a68bacd77e0",
   "metadata": {},
   "outputs": [
    {
     "data": {
      "text/plain": [
       "1"
      ]
     },
     "execution_count": 98,
     "metadata": {},
     "output_type": "execute_result"
    }
   ],
   "source": [
    "l4.count(\"kumar\")"
   ]
  },
  {
   "cell_type": "code",
   "execution_count": 99,
   "id": "ce2bfde7-810c-47e9-8974-014a224d63f9",
   "metadata": {},
   "outputs": [],
   "source": [
    "#immuteable\n",
    "s=\"sudh\" "
   ]
  },
  {
   "cell_type": "code",
   "execution_count": 100,
   "id": "b91c5d21-ae70-4c9f-8a94-5c57d5080474",
   "metadata": {},
   "outputs": [],
   "source": [
    "#muteable\n",
    "l5=[3,4,5,6]"
   ]
  },
  {
   "cell_type": "code",
   "execution_count": 101,
   "id": "e0f33163-47e4-4083-bb98-36ec063d7989",
   "metadata": {},
   "outputs": [],
   "source": [
    "l5[0]=30"
   ]
  },
  {
   "cell_type": "code",
   "execution_count": 102,
   "id": "4b969137-30c4-486e-a745-471e1ebd7ecb",
   "metadata": {},
   "outputs": [
    {
     "data": {
      "text/plain": [
       "[30, 4, 5, 6]"
      ]
     },
     "execution_count": 102,
     "metadata": {},
     "output_type": "execute_result"
    }
   ],
   "source": [
    "l5"
   ]
  },
  {
   "cell_type": "code",
   "execution_count": 103,
   "id": "4c4a32c3-a45a-4d9c-ba9a-bb53c1d36f56",
   "metadata": {},
   "outputs": [
    {
     "data": {
      "text/plain": [
       "'sudh'"
      ]
     },
     "execution_count": 103,
     "metadata": {},
     "output_type": "execute_result"
    }
   ],
   "source": [
    "s"
   ]
  },
  {
   "cell_type": "code",
   "execution_count": 104,
   "id": "fcf9b656-e6e5-4199-b56f-fea779c080d2",
   "metadata": {},
   "outputs": [
    {
     "data": {
      "text/plain": [
       "'audh'"
      ]
     },
     "execution_count": 104,
     "metadata": {},
     "output_type": "execute_result"
    }
   ],
   "source": [
    "#temporary\n",
    "s.replace('s','a')"
   ]
  },
  {
   "cell_type": "code",
   "execution_count": 105,
   "id": "506fce81-3154-4237-906a-44d2dad71b84",
   "metadata": {},
   "outputs": [
    {
     "data": {
      "text/plain": [
       "'sudh'"
      ]
     },
     "execution_count": 105,
     "metadata": {},
     "output_type": "execute_result"
    }
   ],
   "source": [
    "#original data \n",
    "s"
   ]
  },
  {
   "cell_type": "code",
   "execution_count": 108,
   "id": "29e34afe-bd56-47f1-b331-5b99019b902b",
   "metadata": {},
   "outputs": [],
   "source": [
    "t=(92,3,4,5,\"sudh\",45.56,False,45+457j,[3,4,5])"
   ]
  },
  {
   "cell_type": "code",
   "execution_count": 109,
   "id": "01e9c1e6-5f14-4a50-bd1b-526441d02e8e",
   "metadata": {},
   "outputs": [
    {
     "data": {
      "text/plain": [
       "(92, 3, 4, 5, 'sudh', 45.56, False, (45+457j), [3, 4, 5])"
      ]
     },
     "execution_count": 109,
     "metadata": {},
     "output_type": "execute_result"
    }
   ],
   "source": [
    "t"
   ]
  },
  {
   "cell_type": "code",
   "execution_count": 110,
   "id": "c7e0a60a-01f4-4f2f-b8c7-84e2097c2b31",
   "metadata": {},
   "outputs": [
    {
     "data": {
      "text/plain": [
       "9"
      ]
     },
     "execution_count": 110,
     "metadata": {},
     "output_type": "execute_result"
    }
   ],
   "source": [
    "len(t)"
   ]
  },
  {
   "cell_type": "code",
   "execution_count": 111,
   "id": "81306e55-2cf5-4a4b-8c0c-1704f5d921be",
   "metadata": {},
   "outputs": [
    {
     "data": {
      "text/plain": [
       "92"
      ]
     },
     "execution_count": 111,
     "metadata": {},
     "output_type": "execute_result"
    }
   ],
   "source": [
    "t[0]"
   ]
  },
  {
   "cell_type": "code",
   "execution_count": 112,
   "id": "33a6950c-8b04-40ac-8897-e3e6ab395ce8",
   "metadata": {},
   "outputs": [
    {
     "data": {
      "text/plain": [
       "[3, 4, 5]"
      ]
     },
     "execution_count": 112,
     "metadata": {},
     "output_type": "execute_result"
    }
   ],
   "source": [
    "t[-1]"
   ]
  },
  {
   "cell_type": "code",
   "execution_count": 113,
   "id": "cdf98c9e-cffe-45c8-ac35-93bfebf43d5a",
   "metadata": {},
   "outputs": [
    {
     "data": {
      "text/plain": [
       "([3, 4, 5], (45+457j), False, 45.56, 'sudh', 5, 4, 3, 92)"
      ]
     },
     "execution_count": 113,
     "metadata": {},
     "output_type": "execute_result"
    }
   ],
   "source": [
    "t[::-1]"
   ]
  },
  {
   "cell_type": "code",
   "execution_count": 114,
   "id": "74f2d419-11e7-44d7-b69b-f1a5899ea034",
   "metadata": {},
   "outputs": [
    {
     "data": {
      "text/plain": [
       "['sudh', 'pwskills', 'kumar', 'data science']"
      ]
     },
     "execution_count": 114,
     "metadata": {},
     "output_type": "execute_result"
    }
   ],
   "source": [
    "l4"
   ]
  },
  {
   "cell_type": "code",
   "execution_count": 115,
   "id": "61d91357-e7a9-4967-a075-869c5e95f6eb",
   "metadata": {},
   "outputs": [
    {
     "data": {
      "text/plain": [
       "'sudh'"
      ]
     },
     "execution_count": 115,
     "metadata": {},
     "output_type": "execute_result"
    }
   ],
   "source": [
    "l4[0]"
   ]
  },
  {
   "cell_type": "code",
   "execution_count": 116,
   "id": "2b508cbf-c5ba-4068-b1e4-1440a45163a1",
   "metadata": {},
   "outputs": [],
   "source": [
    "l4[0]=23424"
   ]
  },
  {
   "cell_type": "code",
   "execution_count": 117,
   "id": "b8afdb12-15a1-4df4-af19-4c13ae5c4bfd",
   "metadata": {},
   "outputs": [
    {
     "data": {
      "text/plain": [
       "[23424, 'pwskills', 'kumar', 'data science']"
      ]
     },
     "execution_count": 117,
     "metadata": {},
     "output_type": "execute_result"
    }
   ],
   "source": [
    "l4"
   ]
  },
  {
   "cell_type": "code",
   "execution_count": 118,
   "id": "39f1249f-c601-4147-8e4d-4e3b396d8eef",
   "metadata": {},
   "outputs": [
    {
     "data": {
      "text/plain": [
       "(92, 3, 4, 5, 'sudh', 45.56, False, (45+457j), [3, 4, 5])"
      ]
     },
     "execution_count": 118,
     "metadata": {},
     "output_type": "execute_result"
    }
   ],
   "source": [
    "t"
   ]
  },
  {
   "cell_type": "code",
   "execution_count": 120,
   "id": "364e2bf5-2c5f-4b84-8d84-237efad48f87",
   "metadata": {},
   "outputs": [
    {
     "data": {
      "text/plain": [
       "1"
      ]
     },
     "execution_count": 120,
     "metadata": {},
     "output_type": "execute_result"
    }
   ],
   "source": [
    "t.count(5)"
   ]
  },
  {
   "cell_type": "code",
   "execution_count": 121,
   "id": "cbecd391-c3a1-44a4-9ef2-63324c79180d",
   "metadata": {},
   "outputs": [
    {
     "data": {
      "text/plain": [
       "6"
      ]
     },
     "execution_count": 121,
     "metadata": {},
     "output_type": "execute_result"
    }
   ],
   "source": [
    "t.index(False)"
   ]
  },
  {
   "cell_type": "code",
   "execution_count": 122,
   "id": "a1c45311-63bc-4d88-bf27-19c15f566d0f",
   "metadata": {},
   "outputs": [
    {
     "data": {
      "text/plain": [
       "(92, 3, 4, 5, 'sudh', 45.56, False, (45+457j), [3, 4, 5])"
      ]
     },
     "execution_count": 122,
     "metadata": {},
     "output_type": "execute_result"
    }
   ],
   "source": [
    "t"
   ]
  },
  {
   "cell_type": "code",
   "execution_count": 123,
   "id": "8bff8116-5691-4ea0-9e7c-57f40d8e6e3e",
   "metadata": {},
   "outputs": [],
   "source": [
    "s1={}"
   ]
  },
  {
   "cell_type": "code",
   "execution_count": 124,
   "id": "a8afbcd4-6732-4d49-aae3-9a36f45a01bf",
   "metadata": {},
   "outputs": [
    {
     "data": {
      "text/plain": [
       "dict"
      ]
     },
     "execution_count": 124,
     "metadata": {},
     "output_type": "execute_result"
    }
   ],
   "source": [
    "type(s1)"
   ]
  },
  {
   "cell_type": "code",
   "execution_count": 125,
   "id": "d7f48b9f-4a5a-4d45-8350-5679e0a42501",
   "metadata": {},
   "outputs": [],
   "source": [
    "s2={2,3,4,55,6}"
   ]
  },
  {
   "cell_type": "code",
   "execution_count": 126,
   "id": "043b3bad-84cf-4972-a7e8-7b1b2e957c87",
   "metadata": {},
   "outputs": [
    {
     "data": {
      "text/plain": [
       "set"
      ]
     },
     "execution_count": 126,
     "metadata": {},
     "output_type": "execute_result"
    }
   ],
   "source": [
    "type(s2)"
   ]
  },
  {
   "cell_type": "code",
   "execution_count": 127,
   "id": "6c92d97e-6e08-41b6-9f92-756fe194f2ba",
   "metadata": {},
   "outputs": [],
   "source": [
    "s3={234,456,\"sudh\",45+45j,34.465,(3,4,5)}"
   ]
  },
  {
   "cell_type": "code",
   "execution_count": 128,
   "id": "4d1f3e91-1e8a-44b2-9d89-ceb4cef63e1f",
   "metadata": {},
   "outputs": [
    {
     "data": {
      "text/plain": [
       "{(3, 4, 5), (45+45j), 234, 34.465, 456, 'sudh'}"
      ]
     },
     "execution_count": 128,
     "metadata": {},
     "output_type": "execute_result"
    }
   ],
   "source": [
    "s3"
   ]
  },
  {
   "cell_type": "code",
   "execution_count": 129,
   "id": "3e6648e0-fd6d-4485-a696-d1b25bf30752",
   "metadata": {},
   "outputs": [],
   "source": [
    "#set is remove all the dublicate\n",
    "s4={2,3,4,5,6,2,3,4,5,6,2,3,\"sudh\",\"Sudh\"}"
   ]
  },
  {
   "cell_type": "code",
   "execution_count": 130,
   "id": "3bba361f-a1f3-4a28-8c83-24c5b2a27d1a",
   "metadata": {},
   "outputs": [
    {
     "data": {
      "text/plain": [
       "{2, 3, 4, 5, 6, 'Sudh', 'sudh'}"
      ]
     },
     "execution_count": 130,
     "metadata": {},
     "output_type": "execute_result"
    }
   ],
   "source": [
    "s4"
   ]
  },
  {
   "cell_type": "code",
   "execution_count": 131,
   "id": "d9c66dd0-2a75-4fd9-b1da-37b80a9d0842",
   "metadata": {},
   "outputs": [],
   "source": [
    "l6={2,3,4,5,6,2,3,4,5,6,2,3,\"sudh\",\"Sudh\"}"
   ]
  },
  {
   "cell_type": "code",
   "execution_count": 132,
   "id": "0bb05aad-23ef-48b6-891f-eb7b276714be",
   "metadata": {},
   "outputs": [
    {
     "data": {
      "text/plain": [
       "{2, 3, 4, 5, 6, 'Sudh', 'sudh'}"
      ]
     },
     "execution_count": 132,
     "metadata": {},
     "output_type": "execute_result"
    }
   ],
   "source": [
    "set(l6)"
   ]
  },
  {
   "cell_type": "code",
   "execution_count": 135,
   "id": "007dea7d-8442-44ea-bb7d-1fa8494adebb",
   "metadata": {},
   "outputs": [],
   "source": [
    "l6=list(set(l6))"
   ]
  },
  {
   "cell_type": "code",
   "execution_count": 136,
   "id": "9648460a-219b-4d00-ab5d-075cd1beb665",
   "metadata": {},
   "outputs": [
    {
     "data": {
      "text/plain": [
       "[2, 3, 4, 5, 6, 'sudh', 'Sudh']"
      ]
     },
     "execution_count": 136,
     "metadata": {},
     "output_type": "execute_result"
    }
   ],
   "source": [
    "l6"
   ]
  },
  {
   "cell_type": "code",
   "execution_count": 137,
   "id": "7cbf69f1-349e-4434-b0af-411b41d0247e",
   "metadata": {},
   "outputs": [],
   "source": [
    "s5={234,45,23,12,567,45,2,789,234,\"abc\",456,342,23}"
   ]
  },
  {
   "cell_type": "code",
   "execution_count": 138,
   "id": "725b60f1-3010-45d1-8445-1cf703c226fb",
   "metadata": {},
   "outputs": [
    {
     "data": {
      "text/plain": [
       "{12, 2, 23, 234, 342, 45, 456, 567, 789, 'abc'}"
      ]
     },
     "execution_count": 138,
     "metadata": {},
     "output_type": "execute_result"
    }
   ],
   "source": [
    "s5"
   ]
  },
  {
   "cell_type": "code",
   "execution_count": 140,
   "id": "da02aa2e-17f4-41c6-8b23-75d09cd3c227",
   "metadata": {},
   "outputs": [],
   "source": [
    "s5.add(4)"
   ]
  },
  {
   "cell_type": "code",
   "execution_count": 141,
   "id": "b7a65089-d95f-4023-87aa-3b17c63da50f",
   "metadata": {},
   "outputs": [
    {
     "data": {
      "text/plain": [
       "{12, 2, 23, 234, 342, 4, 45, 456, 567, 789, 'abc'}"
      ]
     },
     "execution_count": 141,
     "metadata": {},
     "output_type": "execute_result"
    }
   ],
   "source": [
    "s5"
   ]
  },
  {
   "cell_type": "code",
   "execution_count": 142,
   "id": "557a0fc9-7bf9-4159-bc65-2cb31b414ba1",
   "metadata": {},
   "outputs": [],
   "source": [
    "s5.remove(2)"
   ]
  },
  {
   "cell_type": "code",
   "execution_count": 143,
   "id": "032df4b7-e414-445a-937f-66c5cbecd8f9",
   "metadata": {},
   "outputs": [
    {
     "data": {
      "text/plain": [
       "{12, 23, 234, 342, 4, 45, 456, 567, 789, 'abc'}"
      ]
     },
     "execution_count": 143,
     "metadata": {},
     "output_type": "execute_result"
    }
   ],
   "source": [
    "s5"
   ]
  },
  {
   "cell_type": "code",
   "execution_count": null,
   "id": "6f8b9f80-8b2f-42f9-a3eb-709e947d8cbb",
   "metadata": {},
   "outputs": [],
   "source": []
  }
 ],
 "metadata": {
  "kernelspec": {
   "display_name": "Python 3 (ipykernel)",
   "language": "python",
   "name": "python3"
  },
  "language_info": {
   "codemirror_mode": {
    "name": "ipython",
    "version": 3
   },
   "file_extension": ".py",
   "mimetype": "text/x-python",
   "name": "python",
   "nbconvert_exporter": "python",
   "pygments_lexer": "ipython3",
   "version": "3.10.8"
  }
 },
 "nbformat": 4,
 "nbformat_minor": 5
}
